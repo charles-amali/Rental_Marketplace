{
	"cells": [
		{
			"cell_type": "markdown",
			"metadata": {
				"editable": true,
				"trusted": true
			},
			"source": [
				"####  Run this cell to set up and start your interactive session.\n"
			]
		},
		{
			"cell_type": "code",
			"execution_count": 1,
			"metadata": {
				"editable": true,
				"trusted": true,
				"vscode": {
					"languageId": "python_glue_session"
				}
			},
			"outputs": [
				{
					"name": "stdout",
					"output_type": "stream",
					"text": [
						"Current idle_timeout is None minutes.\n",
						"idle_timeout has been set to 2880 minutes.\n",
						"Setting Glue version to: 5.0\n",
						"Previous worker type: None\n",
						"Setting new worker type to: G.1X\n",
						"Previous number of workers: None\n",
						"Setting new number of workers to: 5\n",
						"Trying to create a Glue session for the kernel.\n",
						"Session Type: glueetl\n",
						"Worker Type: G.1X\n",
						"Number of Workers: 5\n",
						"Idle Timeout: 2880\n",
						"Session ID: 5cbd29ae-54d0-44c7-96f1-d3607cc34429\n",
						"Applying the following default arguments:\n",
						"--glue_kernel_version 1.0.8\n",
						"--enable-glue-datacatalog true\n",
						"Waiting for session 5cbd29ae-54d0-44c7-96f1-d3607cc34429 to get into ready status...\n",
						"Session 5cbd29ae-54d0-44c7-96f1-d3607cc34429 has been created.\n",
						"\n"
					]
				}
			],
			"source": [
				"%idle_timeout 2880\n",
				"%glue_version 5.0\n",
				"%worker_type G.1X\n",
				"%number_of_workers 5\n",
				"\n",
				"import sys\n",
				"from awsglue.transforms import *\n",
				"from awsglue.utils import getResolvedOptions\n",
				"from pyspark.context import SparkContext\n",
				"from awsglue.context import GlueContext\n",
				"from awsglue.job import Job\n",
				"from awsglue.dynamicframe import DynamicFrame\n",
				"from pyspark.sql.functions import col, to_date, when\n",
				"\n",
				"sc = SparkContext.getOrCreate()\n",
				"glueContext = GlueContext(sc)\n",
				"spark = glueContext.spark_session\n",
				"job = Job(glueContext)"
			]
		},
		{
			"cell_type": "markdown",
			"metadata": {},
			"source": [
				"#### JDBC CONNECTION\n"
			]
		},
		{
			"cell_type": "code",
			"execution_count": 2,
			"metadata": {
				"tags": [],
				"trusted": true,
				"vscode": {
					"languageId": "python_glue_session"
				}
			},
			"outputs": [
				{
					"name": "stdout",
					"output_type": "stream",
					"text": [
						"\n"
					]
				}
			],
			"source": [
				"rds_jdbc_url = \"jdbc:mysql://apartment-db.cl4s228oi3rd.eu-west-1.rds.amazonaws.com:3306/apartmentDB\""
			]
		},
		{
			"cell_type": "code",
			"execution_count": 3,
			"metadata": {
				"tags": [],
				"trusted": true,
				"vscode": {
					"languageId": "python_glue_session"
				}
			},
			"outputs": [
				{
					"name": "stdout",
					"output_type": "stream",
					"text": [
						"\n"
					]
				}
			],
			"source": [
				"common_options = {\n",
				"    \"url\": rds_jdbc_url,\n",
				"    \"user\": \"admin\",\n",
				"    \"password\": \"Cha_rles123\", \n",
				"    \"customJdbcDriverS3Path\": \"s3://rds-s3-bkttt/connector/mysql-connector-j-8.4.0.jar\",\n",
				"    \"customJdbcDriverClassName\": \"com.mysql.cj.jdbc.Driver\"\n",
				"}"
			]
		},
		{
			"cell_type": "code",
			"execution_count": 4,
			"metadata": {
				"tags": [],
				"trusted": true,
				"vscode": {
					"languageId": "python_glue_session"
				}
			},
			"outputs": [
				{
					"name": "stdout",
					"output_type": "stream",
					"text": [
						"\n"
					]
				}
			],
			"source": [
				"tables = [\"apartment\", \"apartment_attributes\", \"user_viewings\", \"bookings\"]\n",
				"s3_base_path = \"s3://rds-s3-bktt/loads_from_rds/\""
			]
		},
		{
			"cell_type": "code",
			"execution_count": null,
			"metadata": {
				"tags": [],
				"trusted": true,
				"vscode": {
					"languageId": "python_glue_session"
				}
			},
			"outputs": [
				{
					"name": "stdout",
					"output_type": "stream",
					"text": [
						"\n",
						"🔹 Extracting data from table: apartment\n",
						"Schema for apartment:\n",
						"root\n",
						" |-- id: long (nullable = true)\n",
						" |-- title: string (nullable = true)\n",
						" |-- source: string (nullable = true)\n",
						" |-- price: decimal(10,2) (nullable = true)\n",
						" |-- currency: string (nullable = true)\n",
						" |-- listing_created_on: timestamp (nullable = true)\n",
						" |-- is_active: boolean (nullable = true)\n",
						" |-- last_modified_timestamp: timestamp (nullable = true)\n",
						"\n",
						"Count for apartment: 200000\n",
						"DynamicFrame Schema for apartment: StructType([Field(id, LongType({}), {}),Field(title, StringType({}), {}),Field(source, StringType({}), {}),Field(price, DecimalType(10, 2, {}), {}),Field(currency, StringType({}), {}),Field(listing_created_on, TimestampType({}), {}),Field(is_active, BooleanType({}), {}),Field(last_modified_timestamp, TimestampType({}), {})], {})\n",
						"🔹 Writing 200000 rows to s3://rds-s3-bktt/loads_from_rds/apartment/\n",
						"<awsglue.dynamicframe.DynamicFrame object at 0x7efea019f5d0>\n",
						"\n",
						"🔹 Extracting data from table: apartment_attributes\n",
						"Schema for apartment_attributes:\n",
						"root\n",
						" |-- apartment_id: long (nullable = true)\n",
						" |-- category: string (nullable = true)\n",
						" |-- body: string (nullable = true)\n",
						" |-- amenities: string (nullable = true)\n",
						" |-- bathrooms: decimal(3,1) (nullable = true)\n",
						" |-- bedrooms: decimal(3,1) (nullable = true)\n",
						" |-- fee: string (nullable = true)\n",
						" |-- has_photo: string (nullable = true)\n",
						" |-- pets_allowed: string (nullable = true)\n",
						" |-- price_display: string (nullable = true)\n",
						" |-- price_type: string (nullable = true)\n",
						" |-- square_feet: integer (nullable = true)\n",
						" |-- address: string (nullable = true)\n",
						" |-- cityname: string (nullable = true)\n",
						" |-- state: string (nullable = true)\n",
						" |-- latitude: decimal(10,4) (nullable = true)\n",
						" |-- longitude: decimal(10,4) (nullable = true)\n",
						"\n",
						"Count for apartment_attributes: 200000\n",
						"DynamicFrame Schema for apartment_attributes: StructType([Field(apartment_id, LongType({}), {}),Field(category, StringType({}), {}),Field(body, StringType({}), {}),Field(amenities, StringType({}), {}),Field(bathrooms, DecimalType(3, 1, {}), {}),Field(bedrooms, DecimalType(3, 1, {}), {}),Field(fee, StringType({}), {}),Field(has_photo, StringType({}), {}),Field(pets_allowed, StringType({}), {}),Field(price_display, StringType({}), {}),Field(price_type, StringType({}), {}),Field(square_feet, IntegerType({}), {}),Field(address, StringType({}), {}),Field(cityname, StringType({}), {}),Field(state, StringType({}), {}),Field(latitude, DecimalType(10, 4, {}), {}),Field(longitude, DecimalType(10, 4, {}), {})], {})\n",
						"🔹 Writing 200000 rows to s3://rds-s3-bktt/loads_from_rds/apartment_attributes/\n",
						"<awsglue.dynamicframe.DynamicFrame object at 0x7efea019f750>\n",
						"\n",
						"🔹 Extracting data from table: user_viewings\n",
						"Schema for user_viewings:\n",
						"root\n",
						" |-- viewing_id: long (nullable = true)\n",
						" |-- user_id: long (nullable = true)\n",
						" |-- apartment_id: long (nullable = true)\n",
						" |-- viewed_at: timestamp (nullable = true)\n",
						" |-- is_wishlisted: string (nullable = true)\n",
						" |-- call_to_action: string (nullable = true)\n",
						"\n",
						"Count for user_viewings: 300000\n",
						"DynamicFrame Schema for user_viewings: StructType([Field(viewing_id, LongType({}), {}),Field(user_id, LongType({}), {}),Field(apartment_id, LongType({}), {}),Field(viewed_at, TimestampType({}), {}),Field(is_wishlisted, StringType({}), {}),Field(call_to_action, StringType({}), {})], {})\n",
						"🔹 Writing 300000 rows to s3://rds-s3-bktt/loads_from_rds/user_viewings/\n",
						"<awsglue.dynamicframe.DynamicFrame object at 0x7efea01f1dd0>\n",
						"\n",
						"🔹 Extracting data from table: bookings\n",
						"Schema for bookings:\n",
						"root\n",
						" |-- booking_id: long (nullable = true)\n",
						" |-- user_id: long (nullable = true)\n",
						" |-- apartment_id: long (nullable = true)\n",
						" |-- booking_date: timestamp (nullable = true)\n",
						" |-- checkin_date: timestamp (nullable = true)\n",
						" |-- checkout_date: timestamp (nullable = true)\n",
						" |-- total_price: decimal(10,2) (nullable = true)\n",
						" |-- currency: string (nullable = true)\n",
						" |-- booking_status: string (nullable = true)\n",
						"\n",
						"Count for bookings: 500000\n",
						"DynamicFrame Schema for bookings: StructType([Field(booking_id, LongType({}), {}),Field(user_id, LongType({}), {}),Field(apartment_id, LongType({}), {}),Field(booking_date, TimestampType({}), {}),Field(checkin_date, TimestampType({}), {}),Field(checkout_date, TimestampType({}), {}),Field(total_price, DecimalType(10, 2, {}), {}),Field(currency, StringType({}), {}),Field(booking_status, StringType({}), {})], {})\n",
						"🔹 Writing 500000 rows to s3://rds-s3-bktt/loads_from_rds/bookings/\n",
						"<awsglue.dynamicframe.DynamicFrame object at 0x7efea01f1f10>\n"
					]
				}
			],
			"source": [
				"for table in tables:\n",
				"    print(f\"\\n🔹 Extracting data from table: {table}\")\n",
				"\n",
				"    # Extract data from MySQL table into a Spark DataFrame\n",
				"    options = common_options.copy()\n",
				"    options[\"dbtable\"] = table\n",
				"\n",
				"    spark_df = spark.read.format(\"jdbc\").options(**options).load()\n",
				"\n",
				"    # **DEBUG: Print schema and row count**\n",
				"    print(f\"Schema for {table}:\")\n",
				"    spark_df.printSchema()\n",
				"    \n",
				"    row_count = spark_df.count()\n",
				"    print(f\"Count for {table}: {row_count}\")\n",
				"\n",
				"\n",
				"\n",
				"    # Convert Spark DataFrame to DynamicFrame\n",
				"    dynamic_frame = DynamicFrame.fromDF(spark_df, glueContext, \"dynamic_df\")\n",
				"    print(f\"DynamicFrame Schema for {table}: {dynamic_frame.schema()}\")\n",
				"\n",
				"    # Define S3 path\n",
				"    s3_path = f\"{s3_base_path}{table}/\"\n",
				"    print(f\"🔹 Writing {row_count} rows to {s3_path}\")\n",
				"\n",
				"    # Write DynamicFrame to S3 in Parquet format\n",
				"    glueContext.write_dynamic_frame.from_options(\n",
				"        frame=dynamic_frame,\n",
				"        connection_type=\"s3\",\n",
				"        connection_options={\"path\": s3_path},\n",
				"        format=\"parquet\"\n",
				"    )\n"
			]
		},
		{
			"cell_type": "code",
			"execution_count": 8,
			"metadata": {
				"tags": [],
				"trusted": true,
				"vscode": {
					"languageId": "python_glue_session"
				}
			},
			"outputs": [
				{
					"name": "stdout",
					"output_type": "stream",
					"text": [
						"+----------+-------+------------+-------------------+-------------------+-------------------+-----------+--------+--------------+\n",
						"|booking_id|user_id|apartment_id|       booking_date|       checkin_date|      checkout_date|total_price|currency|booking_status|\n",
						"+----------+-------+------------+-------------------+-------------------+-------------------+-----------+--------+--------------+\n",
						"|         1|   2920|      130940|2022-11-11 00:00:00|2024-09-07 00:00:00|2023-06-30 00:00:00|    2923.67|     USD|     confirmed|\n",
						"|         2|   2788|      191497|2024-05-17 00:00:00|2024-07-07 00:00:00|2021-09-06 00:00:00|    4645.29|     USD|       pending|\n",
						"|         3|   9285|      139117|2022-11-26 00:00:00|2025-02-12 00:00:00|2023-04-07 00:00:00|    1683.99|     USD|      canceled|\n",
						"|         4|   8161|      118131|2020-07-09 00:00:00|2024-10-25 00:00:00|2021-02-08 00:00:00|    1870.62|     USD|     confirmed|\n",
						"|         5|   6733|       43470|2024-05-08 00:00:00|2022-01-31 00:00:00|2024-10-29 00:00:00|    3379.44|     USD|       pending|\n",
						"+----------+-------+------------+-------------------+-------------------+-------------------+-----------+--------+--------------+\n",
						"only showing top 5 rows\n",
						"\n",
						"root\n",
						" |-- booking_id: long (nullable = true)\n",
						" |-- user_id: long (nullable = true)\n",
						" |-- apartment_id: long (nullable = true)\n",
						" |-- booking_date: timestamp (nullable = true)\n",
						" |-- checkin_date: timestamp (nullable = true)\n",
						" |-- checkout_date: timestamp (nullable = true)\n",
						" |-- total_price: decimal(10,2) (nullable = true)\n",
						" |-- currency: string (nullable = true)\n",
						" |-- booking_status: string (nullable = true)\n"
					]
				}
			],
			"source": [
				"s3_df = spark.read.parquet(s3_path)\n",
				"s3_df.show(5)  # Show sample rows\n",
				"s3_df.printSchema()  # Validate column names and types\n"
			]
		},
		{
			"cell_type": "code",
			"execution_count": null,
			"metadata": {
				"vscode": {
					"languageId": "python_glue_session"
				}
			},
			"outputs": [],
			"source": []
		}
	],
	"metadata": {
		"kernelspec": {
			"display_name": "Glue PySpark",
			"language": "python",
			"name": "glue_pyspark"
		},
		"language_info": {
			"codemirror_mode": {
				"name": "python",
				"version": 3
			},
			"file_extension": ".py",
			"mimetype": "text/x-python",
			"name": "Python_Glue_Session",
			"pygments_lexer": "python3"
		}
	},
	"nbformat": 4,
	"nbformat_minor": 4
}
