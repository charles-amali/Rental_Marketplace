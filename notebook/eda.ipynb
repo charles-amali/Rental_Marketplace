{
 "cells": [
  {
   "cell_type": "code",
   "execution_count": 1,
   "metadata": {},
   "outputs": [],
   "source": [
    "import pandas as pd\n",
    "import numpy as np\n",
    "import matplotlib.pyplot as plt\n",
    "import seaborn as sns"
   ]
  },
  {
   "cell_type": "markdown",
   "metadata": {},
   "source": [
    "## Loading CSV Files"
   ]
  },
  {
   "cell_type": "code",
   "execution_count": 3,
   "metadata": {},
   "outputs": [
    {
     "data": {
      "text/html": [
       "<div>\n",
       "<style scoped>\n",
       "    .dataframe tbody tr th:only-of-type {\n",
       "        vertical-align: middle;\n",
       "    }\n",
       "\n",
       "    .dataframe tbody tr th {\n",
       "        vertical-align: top;\n",
       "    }\n",
       "\n",
       "    .dataframe thead th {\n",
       "        text-align: right;\n",
       "    }\n",
       "</style>\n",
       "<table border=\"1\" class=\"dataframe\">\n",
       "  <thead>\n",
       "    <tr style=\"text-align: right;\">\n",
       "      <th></th>\n",
       "      <th>id</th>\n",
       "      <th>title</th>\n",
       "      <th>source</th>\n",
       "      <th>price</th>\n",
       "      <th>currency</th>\n",
       "      <th>listing_created_on</th>\n",
       "      <th>is_active</th>\n",
       "      <th>last_modified_timestamp</th>\n",
       "    </tr>\n",
       "  </thead>\n",
       "  <tbody>\n",
       "    <tr>\n",
       "      <th>0</th>\n",
       "      <td>1</td>\n",
       "      <td>Johnson, Fowler and Johnson</td>\n",
       "      <td>Realtor</td>\n",
       "      <td>4020.95</td>\n",
       "      <td>EUR</td>\n",
       "      <td>27/03/2024</td>\n",
       "      <td>True</td>\n",
       "      <td>27/12/2021</td>\n",
       "    </tr>\n",
       "    <tr>\n",
       "      <th>1</th>\n",
       "      <td>2</td>\n",
       "      <td>Kelley-Johnson</td>\n",
       "      <td>Craigslist</td>\n",
       "      <td>1390.01</td>\n",
       "      <td>INR</td>\n",
       "      <td>23/07/2023</td>\n",
       "      <td>True</td>\n",
       "      <td>10/02/2023</td>\n",
       "    </tr>\n",
       "    <tr>\n",
       "      <th>2</th>\n",
       "      <td>3</td>\n",
       "      <td>Gibson, Delgado and Austin</td>\n",
       "      <td>Craigslist</td>\n",
       "      <td>3082.67</td>\n",
       "      <td>INR</td>\n",
       "      <td>15/04/2024</td>\n",
       "      <td>True</td>\n",
       "      <td>02/01/2020</td>\n",
       "    </tr>\n",
       "    <tr>\n",
       "      <th>3</th>\n",
       "      <td>4</td>\n",
       "      <td>Kelly, Smith and Gibson</td>\n",
       "      <td>Zillow</td>\n",
       "      <td>4724.20</td>\n",
       "      <td>USD</td>\n",
       "      <td>27/10/2020</td>\n",
       "      <td>False</td>\n",
       "      <td>23/06/2023</td>\n",
       "    </tr>\n",
       "    <tr>\n",
       "      <th>4</th>\n",
       "      <td>5</td>\n",
       "      <td>Carroll-Burch</td>\n",
       "      <td>Airbnb</td>\n",
       "      <td>3867.11</td>\n",
       "      <td>USD</td>\n",
       "      <td>01/02/2021</td>\n",
       "      <td>False</td>\n",
       "      <td>25/07/2022</td>\n",
       "    </tr>\n",
       "    <tr>\n",
       "      <th>5</th>\n",
       "      <td>6</td>\n",
       "      <td>James LLC</td>\n",
       "      <td>Zillow</td>\n",
       "      <td>2850.27</td>\n",
       "      <td>USD</td>\n",
       "      <td>20/03/2025</td>\n",
       "      <td>True</td>\n",
       "      <td>16/02/2021</td>\n",
       "    </tr>\n",
       "    <tr>\n",
       "      <th>6</th>\n",
       "      <td>7</td>\n",
       "      <td>Crane, Rodriguez and Charles</td>\n",
       "      <td>Airbnb</td>\n",
       "      <td>4900.15</td>\n",
       "      <td>USD</td>\n",
       "      <td>30/01/2020</td>\n",
       "      <td>True</td>\n",
       "      <td>06/01/2021</td>\n",
       "    </tr>\n",
       "    <tr>\n",
       "      <th>7</th>\n",
       "      <td>8</td>\n",
       "      <td>Stewart-Abbott</td>\n",
       "      <td>Realtor</td>\n",
       "      <td>3085.36</td>\n",
       "      <td>USD</td>\n",
       "      <td>28/05/2023</td>\n",
       "      <td>False</td>\n",
       "      <td>21/08/2023</td>\n",
       "    </tr>\n",
       "    <tr>\n",
       "      <th>8</th>\n",
       "      <td>9</td>\n",
       "      <td>Dean, Johnson and Stanley</td>\n",
       "      <td>Zillow</td>\n",
       "      <td>1778.69</td>\n",
       "      <td>USD</td>\n",
       "      <td>01/12/2023</td>\n",
       "      <td>False</td>\n",
       "      <td>07/04/2023</td>\n",
       "    </tr>\n",
       "    <tr>\n",
       "      <th>9</th>\n",
       "      <td>10</td>\n",
       "      <td>Riley Inc</td>\n",
       "      <td>Craigslist</td>\n",
       "      <td>2794.78</td>\n",
       "      <td>EUR</td>\n",
       "      <td>14/11/2021</td>\n",
       "      <td>True</td>\n",
       "      <td>20/03/2025</td>\n",
       "    </tr>\n",
       "  </tbody>\n",
       "</table>\n",
       "</div>"
      ],
      "text/plain": [
       "   id                         title      source    price currency  \\\n",
       "0   1   Johnson, Fowler and Johnson     Realtor  4020.95      EUR   \n",
       "1   2                Kelley-Johnson  Craigslist  1390.01      INR   \n",
       "2   3    Gibson, Delgado and Austin  Craigslist  3082.67      INR   \n",
       "3   4       Kelly, Smith and Gibson      Zillow  4724.20      USD   \n",
       "4   5                 Carroll-Burch      Airbnb  3867.11      USD   \n",
       "5   6                     James LLC      Zillow  2850.27      USD   \n",
       "6   7  Crane, Rodriguez and Charles      Airbnb  4900.15      USD   \n",
       "7   8                Stewart-Abbott     Realtor  3085.36      USD   \n",
       "8   9     Dean, Johnson and Stanley      Zillow  1778.69      USD   \n",
       "9  10                     Riley Inc  Craigslist  2794.78      EUR   \n",
       "\n",
       "  listing_created_on  is_active last_modified_timestamp  \n",
       "0         27/03/2024       True              27/12/2021  \n",
       "1         23/07/2023       True              10/02/2023  \n",
       "2         15/04/2024       True              02/01/2020  \n",
       "3         27/10/2020      False              23/06/2023  \n",
       "4         01/02/2021      False              25/07/2022  \n",
       "5         20/03/2025       True              16/02/2021  \n",
       "6         30/01/2020       True              06/01/2021  \n",
       "7         28/05/2023      False              21/08/2023  \n",
       "8         01/12/2023      False              07/04/2023  \n",
       "9         14/11/2021       True              20/03/2025  "
      ]
     },
     "execution_count": 3,
     "metadata": {},
     "output_type": "execute_result"
    }
   ],
   "source": [
    "apartment_data_path = \"data/apartments.csv\"\n",
    "apartment_df = pd.read_csv(apartment_data_path)\n",
    "apartment_df.head(10)"
   ]
  },
  {
   "cell_type": "code",
   "execution_count": 4,
   "metadata": {},
   "outputs": [
    {
     "data": {
      "text/html": [
       "<div>\n",
       "<style scoped>\n",
       "    .dataframe tbody tr th:only-of-type {\n",
       "        vertical-align: middle;\n",
       "    }\n",
       "\n",
       "    .dataframe tbody tr th {\n",
       "        vertical-align: top;\n",
       "    }\n",
       "\n",
       "    .dataframe thead th {\n",
       "        text-align: right;\n",
       "    }\n",
       "</style>\n",
       "<table border=\"1\" class=\"dataframe\">\n",
       "  <thead>\n",
       "    <tr style=\"text-align: right;\">\n",
       "      <th></th>\n",
       "      <th>id</th>\n",
       "      <th>category</th>\n",
       "      <th>body</th>\n",
       "      <th>amenities</th>\n",
       "      <th>bathrooms</th>\n",
       "      <th>bedrooms</th>\n",
       "      <th>fee</th>\n",
       "      <th>has_photo</th>\n",
       "      <th>pets_allowed</th>\n",
       "      <th>price_display</th>\n",
       "      <th>price_type</th>\n",
       "      <th>square_feet</th>\n",
       "      <th>address</th>\n",
       "      <th>cityname</th>\n",
       "      <th>state</th>\n",
       "      <th>latitude</th>\n",
       "      <th>longitude</th>\n",
       "    </tr>\n",
       "  </thead>\n",
       "  <tbody>\n",
       "    <tr>\n",
       "      <th>0</th>\n",
       "      <td>1</td>\n",
       "      <td>2BHK</td>\n",
       "      <td>Happy product model process necessary. Only fo...</td>\n",
       "      <td>Balcony, Air Conditioning</td>\n",
       "      <td>1</td>\n",
       "      <td>1</td>\n",
       "      <td>168.84</td>\n",
       "      <td>True</td>\n",
       "      <td>False</td>\n",
       "      <td>$1588.42</td>\n",
       "      <td>Monthly</td>\n",
       "      <td>1463</td>\n",
       "      <td>92525 Holt Turnpike Lake Keith, KY 50153</td>\n",
       "      <td>New York</td>\n",
       "      <td>California</td>\n",
       "      <td>20.457092</td>\n",
       "      <td>0.466220</td>\n",
       "    </tr>\n",
       "    <tr>\n",
       "      <th>1</th>\n",
       "      <td>2</td>\n",
       "      <td>Penthouse</td>\n",
       "      <td>Technology past much. Shoulder collection appr...</td>\n",
       "      <td>Garden, Pet-friendly, Balcony</td>\n",
       "      <td>2</td>\n",
       "      <td>2</td>\n",
       "      <td>202.99</td>\n",
       "      <td>False</td>\n",
       "      <td>True</td>\n",
       "      <td>$3585.32</td>\n",
       "      <td>Yearly</td>\n",
       "      <td>722</td>\n",
       "      <td>89610 Chang Lane Apt. 295 New Ericaland, NC 28192</td>\n",
       "      <td>Austin</td>\n",
       "      <td>Texas</td>\n",
       "      <td>38.182993</td>\n",
       "      <td>-129.769256</td>\n",
       "    </tr>\n",
       "    <tr>\n",
       "      <th>2</th>\n",
       "      <td>3</td>\n",
       "      <td>3BHK</td>\n",
       "      <td>Firm agreement shake design sort. Size source ...</td>\n",
       "      <td>Gym</td>\n",
       "      <td>2</td>\n",
       "      <td>1</td>\n",
       "      <td>488.93</td>\n",
       "      <td>False</td>\n",
       "      <td>False</td>\n",
       "      <td>$1961.69</td>\n",
       "      <td>Monthly</td>\n",
       "      <td>2208</td>\n",
       "      <td>134 Bryan Island Leefort, VT 48142</td>\n",
       "      <td>Chicago</td>\n",
       "      <td>Illinois</td>\n",
       "      <td>61.585391</td>\n",
       "      <td>-92.597924</td>\n",
       "    </tr>\n",
       "    <tr>\n",
       "      <th>3</th>\n",
       "      <td>4</td>\n",
       "      <td>1BHK</td>\n",
       "      <td>Next may hear camera. Heart dinner onto increa...</td>\n",
       "      <td>Garden</td>\n",
       "      <td>3</td>\n",
       "      <td>3</td>\n",
       "      <td>376.10</td>\n",
       "      <td>True</td>\n",
       "      <td>False</td>\n",
       "      <td>$4845.75</td>\n",
       "      <td>Yearly</td>\n",
       "      <td>589</td>\n",
       "      <td>13660 Amanda Isle East Michaelchester, CT 62513</td>\n",
       "      <td>San Antonio</td>\n",
       "      <td>Texas</td>\n",
       "      <td>-59.015450</td>\n",
       "      <td>6.296552</td>\n",
       "    </tr>\n",
       "    <tr>\n",
       "      <th>4</th>\n",
       "      <td>5</td>\n",
       "      <td>1BHK</td>\n",
       "      <td>Space necessary each statement sport early. Fi...</td>\n",
       "      <td>Pet-friendly</td>\n",
       "      <td>2</td>\n",
       "      <td>2</td>\n",
       "      <td>465.79</td>\n",
       "      <td>False</td>\n",
       "      <td>True</td>\n",
       "      <td>$2599.65</td>\n",
       "      <td>One-time</td>\n",
       "      <td>1590</td>\n",
       "      <td>7915 Laurie Manor Port John, MN 73309</td>\n",
       "      <td>Los Angeles</td>\n",
       "      <td>California</td>\n",
       "      <td>-48.009442</td>\n",
       "      <td>-33.172952</td>\n",
       "    </tr>\n",
       "  </tbody>\n",
       "</table>\n",
       "</div>"
      ],
      "text/plain": [
       "   id   category                                               body  \\\n",
       "0   1       2BHK  Happy product model process necessary. Only fo...   \n",
       "1   2  Penthouse  Technology past much. Shoulder collection appr...   \n",
       "2   3       3BHK  Firm agreement shake design sort. Size source ...   \n",
       "3   4       1BHK  Next may hear camera. Heart dinner onto increa...   \n",
       "4   5       1BHK  Space necessary each statement sport early. Fi...   \n",
       "\n",
       "                       amenities  bathrooms  bedrooms     fee  has_photo  \\\n",
       "0      Balcony, Air Conditioning          1         1  168.84       True   \n",
       "1  Garden, Pet-friendly, Balcony          2         2  202.99      False   \n",
       "2                            Gym          2         1  488.93      False   \n",
       "3                         Garden          3         3  376.10       True   \n",
       "4                   Pet-friendly          2         2  465.79      False   \n",
       "\n",
       "  pets_allowed price_display price_type  square_feet  \\\n",
       "0        False      $1588.42    Monthly         1463   \n",
       "1         True      $3585.32     Yearly          722   \n",
       "2        False      $1961.69    Monthly         2208   \n",
       "3        False      $4845.75     Yearly          589   \n",
       "4         True      $2599.65   One-time         1590   \n",
       "\n",
       "                                             address     cityname       state  \\\n",
       "0           92525 Holt Turnpike Lake Keith, KY 50153     New York  California   \n",
       "1  89610 Chang Lane Apt. 295 New Ericaland, NC 28192       Austin       Texas   \n",
       "2                 134 Bryan Island Leefort, VT 48142      Chicago    Illinois   \n",
       "3    13660 Amanda Isle East Michaelchester, CT 62513  San Antonio       Texas   \n",
       "4              7915 Laurie Manor Port John, MN 73309  Los Angeles  California   \n",
       "\n",
       "    latitude   longitude  \n",
       "0  20.457092    0.466220  \n",
       "1  38.182993 -129.769256  \n",
       "2  61.585391  -92.597924  \n",
       "3 -59.015450    6.296552  \n",
       "4 -48.009442  -33.172952  "
      ]
     },
     "execution_count": 4,
     "metadata": {},
     "output_type": "execute_result"
    }
   ],
   "source": [
    "apartment_attributes_path = \"data/apartment_attributes.csv\"\n",
    "apartment_attr_df = pd.read_csv(apartment_attributes_path)\n",
    "apartment_attr_df.head(5)"
   ]
  },
  {
   "cell_type": "code",
   "execution_count": 5,
   "metadata": {},
   "outputs": [
    {
     "data": {
      "text/html": [
       "<div>\n",
       "<style scoped>\n",
       "    .dataframe tbody tr th:only-of-type {\n",
       "        vertical-align: middle;\n",
       "    }\n",
       "\n",
       "    .dataframe tbody tr th {\n",
       "        vertical-align: top;\n",
       "    }\n",
       "\n",
       "    .dataframe thead th {\n",
       "        text-align: right;\n",
       "    }\n",
       "</style>\n",
       "<table border=\"1\" class=\"dataframe\">\n",
       "  <thead>\n",
       "    <tr style=\"text-align: right;\">\n",
       "      <th></th>\n",
       "      <th>user_id</th>\n",
       "      <th>apartment_id</th>\n",
       "      <th>viewed_at</th>\n",
       "      <th>is_wishlisted</th>\n",
       "      <th>call_to_action</th>\n",
       "    </tr>\n",
       "  </thead>\n",
       "  <tbody>\n",
       "    <tr>\n",
       "      <th>0</th>\n",
       "      <td>5353</td>\n",
       "      <td>180678</td>\n",
       "      <td>23/01/2023</td>\n",
       "      <td>False</td>\n",
       "      <td>Reported</td>\n",
       "    </tr>\n",
       "    <tr>\n",
       "      <th>1</th>\n",
       "      <td>8341</td>\n",
       "      <td>12140</td>\n",
       "      <td>14/05/2021</td>\n",
       "      <td>True</td>\n",
       "      <td>Reported</td>\n",
       "    </tr>\n",
       "    <tr>\n",
       "      <th>2</th>\n",
       "      <td>5517</td>\n",
       "      <td>72896</td>\n",
       "      <td>27/06/2023</td>\n",
       "      <td>True</td>\n",
       "      <td>Contact Agent</td>\n",
       "    </tr>\n",
       "    <tr>\n",
       "      <th>3</th>\n",
       "      <td>1710</td>\n",
       "      <td>19727</td>\n",
       "      <td>15/10/2022</td>\n",
       "      <td>True</td>\n",
       "      <td>Shortlisted</td>\n",
       "    </tr>\n",
       "    <tr>\n",
       "      <th>4</th>\n",
       "      <td>896</td>\n",
       "      <td>44550</td>\n",
       "      <td>06/02/2020</td>\n",
       "      <td>False</td>\n",
       "      <td>Reported</td>\n",
       "    </tr>\n",
       "  </tbody>\n",
       "</table>\n",
       "</div>"
      ],
      "text/plain": [
       "   user_id  apartment_id   viewed_at  is_wishlisted call_to_action\n",
       "0     5353        180678  23/01/2023          False       Reported\n",
       "1     8341         12140  14/05/2021           True       Reported\n",
       "2     5517         72896  27/06/2023           True  Contact Agent\n",
       "3     1710         19727  15/10/2022           True    Shortlisted\n",
       "4      896         44550  06/02/2020          False       Reported"
      ]
     },
     "execution_count": 5,
     "metadata": {},
     "output_type": "execute_result"
    }
   ],
   "source": [
    "user_viewings_path = \"data/user_viewing.csv\"\n",
    "user_viewings_df = pd.read_csv(user_viewings_path)\n",
    "user_viewings_df.head(5)"
   ]
  },
  {
   "cell_type": "code",
   "execution_count": 6,
   "metadata": {},
   "outputs": [
    {
     "data": {
      "text/html": [
       "<div>\n",
       "<style scoped>\n",
       "    .dataframe tbody tr th:only-of-type {\n",
       "        vertical-align: middle;\n",
       "    }\n",
       "\n",
       "    .dataframe tbody tr th {\n",
       "        vertical-align: top;\n",
       "    }\n",
       "\n",
       "    .dataframe thead th {\n",
       "        text-align: right;\n",
       "    }\n",
       "</style>\n",
       "<table border=\"1\" class=\"dataframe\">\n",
       "  <thead>\n",
       "    <tr style=\"text-align: right;\">\n",
       "      <th></th>\n",
       "      <th>booking_id</th>\n",
       "      <th>user_id</th>\n",
       "      <th>apartment_id</th>\n",
       "      <th>booking_date</th>\n",
       "      <th>checkin_date</th>\n",
       "      <th>checkout_date</th>\n",
       "      <th>total_price</th>\n",
       "      <th>currency</th>\n",
       "      <th>booking_status</th>\n",
       "    </tr>\n",
       "  </thead>\n",
       "  <tbody>\n",
       "    <tr>\n",
       "      <th>0</th>\n",
       "      <td>1</td>\n",
       "      <td>2920</td>\n",
       "      <td>130940</td>\n",
       "      <td>11/11/2022</td>\n",
       "      <td>07/09/2024</td>\n",
       "      <td>30/06/2023</td>\n",
       "      <td>2923.67</td>\n",
       "      <td>EUR</td>\n",
       "      <td>confirmed</td>\n",
       "    </tr>\n",
       "    <tr>\n",
       "      <th>1</th>\n",
       "      <td>2</td>\n",
       "      <td>2788</td>\n",
       "      <td>191497</td>\n",
       "      <td>17/05/2024</td>\n",
       "      <td>07/07/2024</td>\n",
       "      <td>06/09/2021</td>\n",
       "      <td>4645.29</td>\n",
       "      <td>EUR</td>\n",
       "      <td>pending</td>\n",
       "    </tr>\n",
       "    <tr>\n",
       "      <th>2</th>\n",
       "      <td>3</td>\n",
       "      <td>9285</td>\n",
       "      <td>139117</td>\n",
       "      <td>26/11/2022</td>\n",
       "      <td>12/02/2025</td>\n",
       "      <td>07/04/2023</td>\n",
       "      <td>1683.99</td>\n",
       "      <td>INR</td>\n",
       "      <td>canceled</td>\n",
       "    </tr>\n",
       "    <tr>\n",
       "      <th>3</th>\n",
       "      <td>4</td>\n",
       "      <td>8161</td>\n",
       "      <td>118131</td>\n",
       "      <td>09/07/2020</td>\n",
       "      <td>25/10/2024</td>\n",
       "      <td>08/02/2021</td>\n",
       "      <td>1870.62</td>\n",
       "      <td>USD</td>\n",
       "      <td>confirmed</td>\n",
       "    </tr>\n",
       "    <tr>\n",
       "      <th>4</th>\n",
       "      <td>5</td>\n",
       "      <td>6733</td>\n",
       "      <td>43470</td>\n",
       "      <td>08/05/2024</td>\n",
       "      <td>31/01/2022</td>\n",
       "      <td>29/10/2024</td>\n",
       "      <td>3379.44</td>\n",
       "      <td>INR</td>\n",
       "      <td>pending</td>\n",
       "    </tr>\n",
       "  </tbody>\n",
       "</table>\n",
       "</div>"
      ],
      "text/plain": [
       "   booking_id  user_id  apartment_id booking_date checkin_date checkout_date  \\\n",
       "0           1     2920        130940   11/11/2022   07/09/2024    30/06/2023   \n",
       "1           2     2788        191497   17/05/2024   07/07/2024    06/09/2021   \n",
       "2           3     9285        139117   26/11/2022   12/02/2025    07/04/2023   \n",
       "3           4     8161        118131   09/07/2020   25/10/2024    08/02/2021   \n",
       "4           5     6733         43470   08/05/2024   31/01/2022    29/10/2024   \n",
       "\n",
       "   total_price currency booking_status  \n",
       "0      2923.67      EUR      confirmed  \n",
       "1      4645.29      EUR        pending  \n",
       "2      1683.99      INR       canceled  \n",
       "3      1870.62      USD      confirmed  \n",
       "4      3379.44      INR        pending  "
      ]
     },
     "execution_count": 6,
     "metadata": {},
     "output_type": "execute_result"
    }
   ],
   "source": [
    "bookings_path = \"data/bookings.csv\"\n",
    "bookings_df = pd.read_csv(bookings_path)\n",
    "bookings_df.head(5)"
   ]
  },
  {
   "cell_type": "markdown",
   "metadata": {},
   "source": [
    "## Dataset Analysis"
   ]
  },
  {
   "cell_type": "code",
   "execution_count": 7,
   "metadata": {},
   "outputs": [
    {
     "name": "stdout",
     "output_type": "stream",
     "text": [
      "<class 'pandas.core.frame.DataFrame'>\n",
      "RangeIndex: 200000 entries, 0 to 199999\n",
      "Data columns (total 8 columns):\n",
      " #   Column                   Non-Null Count   Dtype  \n",
      "---  ------                   --------------   -----  \n",
      " 0   id                       200000 non-null  int64  \n",
      " 1   title                    200000 non-null  object \n",
      " 2   source                   200000 non-null  object \n",
      " 3   price                    200000 non-null  float64\n",
      " 4   currency                 200000 non-null  object \n",
      " 5   listing_created_on       200000 non-null  object \n",
      " 6   is_active                200000 non-null  bool   \n",
      " 7   last_modified_timestamp  200000 non-null  object \n",
      "dtypes: bool(1), float64(1), int64(1), object(5)\n",
      "memory usage: 10.9+ MB\n"
     ]
    }
   ],
   "source": [
    "apartment_df.info()"
   ]
  },
  {
   "cell_type": "code",
   "execution_count": 8,
   "metadata": {},
   "outputs": [
    {
     "name": "stdout",
     "output_type": "stream",
     "text": [
      "id                           int64\n",
      "title                       object\n",
      "source                      object\n",
      "price                      float64\n",
      "currency                    object\n",
      "listing_created_on          object\n",
      "is_active                     bool\n",
      "last_modified_timestamp     object\n",
      "dtype: object\n"
     ]
    }
   ],
   "source": [
    "# Show types of all columns\n",
    "print(apartment_df.dtypes)"
   ]
  },
  {
   "cell_type": "code",
   "execution_count": 8,
   "metadata": {},
   "outputs": [
    {
     "name": "stdout",
     "output_type": "stream",
     "text": [
      "<class 'pandas.core.frame.DataFrame'>\n",
      "RangeIndex: 200000 entries, 0 to 199999\n",
      "Data columns (total 17 columns):\n",
      " #   Column         Non-Null Count   Dtype  \n",
      "---  ------         --------------   -----  \n",
      " 0   id             200000 non-null  int64  \n",
      " 1   category       200000 non-null  object \n",
      " 2   body           200000 non-null  object \n",
      " 3   amenities      200000 non-null  object \n",
      " 4   bathrooms      200000 non-null  int64  \n",
      " 5   bedrooms       200000 non-null  int64  \n",
      " 6   fee            200000 non-null  float64\n",
      " 7   has_photo      200000 non-null  bool   \n",
      " 8   pets_allowed   70956 non-null   object \n",
      " 9   price_display  200000 non-null  object \n",
      " 10  price_type     200000 non-null  object \n",
      " 11  square_feet    200000 non-null  int64  \n",
      " 12  address        200000 non-null  object \n",
      " 13  cityname       200000 non-null  object \n",
      " 14  state          200000 non-null  object \n",
      " 15  latitude       200000 non-null  float64\n",
      " 16  longitude      200000 non-null  float64\n",
      "dtypes: bool(1), float64(3), int64(4), object(9)\n",
      "memory usage: 24.6+ MB\n"
     ]
    }
   ],
   "source": [
    "apartment_attr_df.info()"
   ]
  },
  {
   "cell_type": "code",
   "execution_count": 9,
   "metadata": {},
   "outputs": [
    {
     "name": "stdout",
     "output_type": "stream",
     "text": [
      "<class 'pandas.core.frame.DataFrame'>\n",
      "RangeIndex: 300000 entries, 0 to 299999\n",
      "Data columns (total 5 columns):\n",
      " #   Column          Non-Null Count   Dtype \n",
      "---  ------          --------------   ----- \n",
      " 0   user_id         300000 non-null  int64 \n",
      " 1   apartment_id    300000 non-null  int64 \n",
      " 2   viewed_at       300000 non-null  object\n",
      " 3   is_wishlisted   300000 non-null  bool  \n",
      " 4   call_to_action  300000 non-null  object\n",
      "dtypes: bool(1), int64(2), object(2)\n",
      "memory usage: 9.4+ MB\n"
     ]
    }
   ],
   "source": [
    "user_viewings_df.info()"
   ]
  },
  {
   "cell_type": "code",
   "execution_count": 10,
   "metadata": {},
   "outputs": [
    {
     "name": "stdout",
     "output_type": "stream",
     "text": [
      "<class 'pandas.core.frame.DataFrame'>\n",
      "RangeIndex: 500000 entries, 0 to 499999\n",
      "Data columns (total 9 columns):\n",
      " #   Column          Non-Null Count   Dtype  \n",
      "---  ------          --------------   -----  \n",
      " 0   booking_id      500000 non-null  int64  \n",
      " 1   user_id         500000 non-null  int64  \n",
      " 2   apartment_id    500000 non-null  int64  \n",
      " 3   booking_date    500000 non-null  object \n",
      " 4   checkin_date    500000 non-null  object \n",
      " 5   checkout_date   500000 non-null  object \n",
      " 6   total_price     500000 non-null  float64\n",
      " 7   currency        500000 non-null  object \n",
      " 8   booking_status  500000 non-null  object \n",
      "dtypes: float64(1), int64(3), object(5)\n",
      "memory usage: 34.3+ MB\n"
     ]
    }
   ],
   "source": [
    "bookings_df.info()"
   ]
  },
  {
   "cell_type": "code",
   "execution_count": 11,
   "metadata": {},
   "outputs": [
    {
     "name": "stdout",
     "output_type": "stream",
     "text": [
      "['EUR' 'INR' 'USD']\n"
     ]
    }
   ],
   "source": [
    "unique_currency = bookings_df['currency'].unique()\n",
    "print(unique_currency)"
   ]
  },
  {
   "cell_type": "markdown",
   "metadata": {},
   "source": [
    "### changing all currency to USD"
   ]
  },
  {
   "cell_type": "code",
   "execution_count": 12,
   "metadata": {},
   "outputs": [
    {
     "name": "stdout",
     "output_type": "stream",
     "text": [
      "['USD']\n"
     ]
    }
   ],
   "source": [
    "bookings_df['currency'] = \"USD\"\n",
    "unique_currency = bookings_df['currency'].unique()\n",
    "print(unique_currency) "
   ]
  },
  {
   "cell_type": "code",
   "execution_count": 14,
   "metadata": {},
   "outputs": [
    {
     "name": "stdout",
     "output_type": "stream",
     "text": [
      "['USD']\n"
     ]
    }
   ],
   "source": [
    "apartment_df['currency'] = \"USD\"\n",
    "unique_currency = apartment_df['currency'].unique()\n",
    "print(unique_currency) \n"
   ]
  },
  {
   "cell_type": "markdown",
   "metadata": {},
   "source": [
    "### Handling Missing Values"
   ]
  },
  {
   "cell_type": "code",
   "execution_count": 15,
   "metadata": {},
   "outputs": [
    {
     "name": "stdout",
     "output_type": "stream",
     "text": [
      "Null values in object columns:\n",
      " Series([], dtype: int64)\n"
     ]
    }
   ],
   "source": [
    "# Select only object (categorical) columns and count missing values\n",
    "object_nulls = bookings_df.select_dtypes(include=['object']).isnull().sum()\n",
    "\n",
    "# Display only columns that have missing values\n",
    "object_nulls = object_nulls[object_nulls > 0]\n",
    "\n",
    "print(\"Null values in object columns:\\n\", object_nulls)"
   ]
  },
  {
   "cell_type": "code",
   "execution_count": 16,
   "metadata": {},
   "outputs": [
    {
     "name": "stdout",
     "output_type": "stream",
     "text": [
      "Null values in object columns:\n",
      " Series([], dtype: int64)\n"
     ]
    }
   ],
   "source": [
    "# Select only object (categorical) columns and count missing values\n",
    "object_nulls_user = user_viewings_df.select_dtypes(include=['object']).isnull().sum()\n",
    "\n",
    "# Display only columns that have missing values\n",
    "object_nulls_user = object_nulls_user[object_nulls_user > 0]\n",
    "\n",
    "print(\"Null values in object columns:\\n\", object_nulls_user)\n"
   ]
  },
  {
   "cell_type": "code",
   "execution_count": 18,
   "metadata": {},
   "outputs": [
    {
     "name": "stdout",
     "output_type": "stream",
     "text": [
      "Null values in object columns:\n",
      " Series([], dtype: int64)\n"
     ]
    }
   ],
   "source": [
    "# Select only object (categorical) columns and count missing values\n",
    "object_nulls_ap = apartment_df.select_dtypes(include=['object']).isnull().sum()\n",
    "\n",
    "# Display only columns that have missing values\n",
    "object_nulls_ap = object_nulls_ap[object_nulls_ap > 0]\n",
    "\n",
    "print(\"Null values in object columns:\\n\", object_nulls_ap)"
   ]
  },
  {
   "cell_type": "code",
   "execution_count": 17,
   "metadata": {},
   "outputs": [
    {
     "name": "stdout",
     "output_type": "stream",
     "text": [
      "Null values in object columns:\n",
      " pets_allowed    129044\n",
      "dtype: int64\n"
     ]
    }
   ],
   "source": [
    "# Select only object (categorical) columns and count missing values\n",
    "object_nulls_att = apartment_attr_df.select_dtypes(include=['object']).isnull().sum()\n",
    "\n",
    "# Display only columns that have missing values\n",
    "object_nulls_att = object_nulls_att[object_nulls_att > 0]\n",
    "\n",
    "print(\"Null values in object columns:\\n\", object_nulls_att)"
   ]
  },
  {
   "cell_type": "code",
   "execution_count": 20,
   "metadata": {},
   "outputs": [],
   "source": [
    "apartment_attr_df.fillna(apartment_attr_df.mode().iloc[0], inplace=True)\n",
    "\n",
    "# Ensure object columns are not unexpectedly downcasted\n",
    "# apartment_attr_df = apartment_attr_df.infer_objects(copy=False)"
   ]
  },
  {
   "cell_type": "code",
   "execution_count": 21,
   "metadata": {},
   "outputs": [
    {
     "name": "stdout",
     "output_type": "stream",
     "text": [
      "<class 'pandas.core.frame.DataFrame'>\n",
      "RangeIndex: 200000 entries, 0 to 199999\n",
      "Data columns (total 17 columns):\n",
      " #   Column         Non-Null Count   Dtype  \n",
      "---  ------         --------------   -----  \n",
      " 0   id             200000 non-null  int64  \n",
      " 1   category       200000 non-null  object \n",
      " 2   body           200000 non-null  object \n",
      " 3   amenities      200000 non-null  object \n",
      " 4   bathrooms      200000 non-null  int64  \n",
      " 5   bedrooms       200000 non-null  int64  \n",
      " 6   fee            200000 non-null  float64\n",
      " 7   has_photo      200000 non-null  bool   \n",
      " 8   pets_allowed   200000 non-null  bool   \n",
      " 9   price_display  200000 non-null  object \n",
      " 10  price_type     200000 non-null  object \n",
      " 11  square_feet    200000 non-null  int64  \n",
      " 12  address        200000 non-null  object \n",
      " 13  cityname       200000 non-null  object \n",
      " 14  state          200000 non-null  object \n",
      " 15  latitude       200000 non-null  float64\n",
      " 16  longitude      200000 non-null  float64\n",
      "dtypes: bool(2), float64(3), int64(4), object(8)\n",
      "memory usage: 23.3+ MB\n"
     ]
    }
   ],
   "source": [
    "apartment_attr_df.info()"
   ]
  },
  {
   "cell_type": "markdown",
   "metadata": {},
   "source": [
    "### Checking for duplicate rows in the dataframes"
   ]
  },
  {
   "cell_type": "code",
   "execution_count": 22,
   "metadata": {},
   "outputs": [
    {
     "name": "stdout",
     "output_type": "stream",
     "text": [
      "\n",
      "Total Duplicates: 0\n"
     ]
    }
   ],
   "source": [
    "apartment_df_duplicates = apartment_df.duplicated().sum()\n",
    "print(f\"\\nTotal Duplicates: {apartment_df_duplicates}\")"
   ]
  },
  {
   "cell_type": "code",
   "execution_count": 23,
   "metadata": {},
   "outputs": [
    {
     "name": "stdout",
     "output_type": "stream",
     "text": [
      "\n",
      "Total Duplicates: 0\n",
      "\n",
      "Total Duplicates: 0\n",
      "\n",
      "Total Duplicates: 0\n"
     ]
    }
   ],
   "source": [
    "user_viewings_df_duplicates = user_viewings_df.duplicated().sum()\n",
    "print(f\"\\nTotal Duplicates: {user_viewings_df_duplicates}\")\n",
    "\n",
    "booking_df_duplicates = bookings_df.duplicated().sum()\n",
    "print(f\"\\nTotal Duplicates: {booking_df_duplicates}\")\n",
    "\n",
    "apartment_attr_df_duplicates = apartment_attr_df.duplicated().sum()\n",
    "print(f\"\\nTotal Duplicates: {apartment_attr_df_duplicates}\")"
   ]
  },
  {
   "cell_type": "code",
   "execution_count": null,
   "metadata": {},
   "outputs": [],
   "source": []
  }
 ],
 "metadata": {
  "kernelspec": {
   "display_name": "myenv",
   "language": "python",
   "name": "python3"
  },
  "language_info": {
   "codemirror_mode": {
    "name": "ipython",
    "version": 3
   },
   "file_extension": ".py",
   "mimetype": "text/x-python",
   "name": "python",
   "nbconvert_exporter": "python",
   "pygments_lexer": "ipython3",
   "version": "3.13.2"
  }
 },
 "nbformat": 4,
 "nbformat_minor": 2
}
